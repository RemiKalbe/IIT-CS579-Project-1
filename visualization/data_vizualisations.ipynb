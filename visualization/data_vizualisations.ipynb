{
 "cells": [
  {
   "cell_type": "code",
   "execution_count": 1,
   "metadata": {},
   "outputs": [],
   "source": [
    "from graph_tool import Graph, Edge, Vertex\n",
    "import polars as pl"
   ]
  },
  {
   "cell_type": "code",
   "execution_count": 2,
   "metadata": {},
   "outputs": [],
   "source": [
    "g: Graph = Graph(directed=True)"
   ]
  },
  {
   "cell_type": "code",
   "execution_count": 4,
   "metadata": {},
   "outputs": [],
   "source": [
    "df_users: pl.DataFrame = pl.read_parquet(\"../collection/users.parquet\")\n",
    "df_questions: pl.DataFrame = pl.read_parquet(\"../collection/questions.parquet\")\n",
    "df_answers: pl.DataFrame = pl.read_parquet(\"../collection/answers.parquet\")"
   ]
  },
  {
   "cell_type": "code",
   "execution_count": 11,
   "metadata": {},
   "outputs": [
    {
     "name": "stdout",
     "output_type": "stream",
     "text": [
      "Users: (1893, 28), Questions: (263, 39), Answers: (1909, 26)\n",
      "Total number of nodes: 4065\n"
     ]
    }
   ],
   "source": [
    "(shape_users, shape_questions, shape_answers) = (\n",
    "    df_users.shape,\n",
    "    df_questions.shape,\n",
    "    df_answers.shape,\n",
    ")\n",
    "print(f\"Users: {shape_users}, Questions: {shape_questions}, Answers: {shape_answers}\")\n",
    "print(\n",
    "    f\"Total number of nodes: {shape_users[0] + shape_questions[0] + shape_answers[0]}\"\n",
    ")"
   ]
  },
  {
   "cell_type": "code",
   "execution_count": 5,
   "metadata": {},
   "outputs": [
    {
     "data": {
      "text/html": [
       "<div><style>\n",
       ".dataframe > thead > tr,\n",
       ".dataframe > tbody > tr {\n",
       "  text-align: right;\n",
       "  white-space: pre-wrap;\n",
       "}\n",
       "</style>\n",
       "<small>shape: (5, 28)</small><table border=\"1\" class=\"dataframe\"><thead><tr><th>about_me</th><th>accept_rate</th><th>account_id</th><th>age</th><th>answer_count</th><th>badge_counts</th><th>creation_date</th><th>display_name</th><th>down_vote_count</th><th>is_employee</th><th>last_access_date</th><th>last_modified_date</th><th>link</th><th>location</th><th>profile_image</th><th>question_count</th><th>reputation</th><th>reputation_change_day</th><th>reputation_change_month</th><th>reputation_change_quarter</th><th>reputation_change_week</th><th>reputation_change_year</th><th>timed_penalty_date</th><th>up_vote_count</th><th>user_id</th><th>user_type</th><th>view_count</th><th>website_url</th></tr><tr><td>str</td><td>i64</td><td>i64</td><td>i64</td><td>i64</td><td>struct[3]</td><td>date</td><td>str</td><td>i64</td><td>bool</td><td>date</td><td>date</td><td>str</td><td>str</td><td>str</td><td>i64</td><td>i64</td><td>i64</td><td>i64</td><td>i64</td><td>i64</td><td>i64</td><td>date</td><td>i64</td><td>i64</td><td>cat</td><td>i64</td><td>str</td></tr></thead><tbody><tr><td>&quot;&lt;p&gt;Author of &lt;…</td><td>86</td><td>11683</td><td>null</td><td>35683</td><td>{9237,873,9186}</td><td>2008-09-26</td><td>&quot;Jon Skeet&quot;</td><td>8331</td><td>false</td><td>2024-02-07</td><td>2024-01-31</td><td>&quot;https://stacko…</td><td>&quot;Reading, Unite…</td><td>&quot;https://www.gr…</td><td>55</td><td>1447238</td><td>10</td><td>1000</td><td>6160</td><td>520</td><td>6160</td><td>null</td><td>17259</td><td>22656</td><td>&quot;registered&quot;</td><td>2283688</td><td>&quot;http://csharpi…</td></tr><tr><td>&quot;&lt;p&gt;Author of &lt;…</td><td>86</td><td>11683</td><td>null</td><td>35683</td><td>{9237,873,9186}</td><td>2008-09-26</td><td>&quot;Jon Skeet&quot;</td><td>8331</td><td>false</td><td>2024-02-07</td><td>2024-01-31</td><td>&quot;https://stacko…</td><td>&quot;Reading, Unite…</td><td>&quot;https://www.gr…</td><td>55</td><td>1447238</td><td>10</td><td>1000</td><td>6160</td><td>520</td><td>6160</td><td>null</td><td>17259</td><td>22656</td><td>&quot;registered&quot;</td><td>2283688</td><td>&quot;http://csharpi…</td></tr><tr><td>&quot;&lt;p&gt;You should …</td><td>94</td><td>335069</td><td>null</td><td>643</td><td>{371,56,330}</td><td>2011-03-16</td><td>&quot;nawfal&quot;</td><td>899</td><td>false</td><td>2023-12-14</td><td>2023-11-07</td><td>&quot;https://stacko…</td><td>&quot;India&quot;</td><td>&quot;https://www.gr…</td><td>223</td><td>71209</td><td>0</td><td>50</td><td>276</td><td>50</td><td>276</td><td>null</td><td>30264</td><td>661933</td><td>&quot;registered&quot;</td><td>14536</td><td>&quot;&quot;</td></tr><tr><td>&quot;&lt;p&gt;I write cod…</td><td>50</td><td>3990</td><td>null</td><td>99</td><td>{41,3,38}</td><td>2008-09-11</td><td>&quot;Astra&quot;</td><td>6</td><td>false</td><td>2023-01-18</td><td>2023-01-25</td><td>&quot;https://stacko…</td><td>&quot;Mesquite, TX, …</td><td>&quot;https://www.gr…</td><td>6</td><td>10965</td><td>0</td><td>20</td><td>80</td><td>0</td><td>80</td><td>null</td><td>526</td><td>5862</td><td>&quot;registered&quot;</td><td>996</td><td>&quot;http://silicon…</td></tr><tr><td>&quot;&lt;p&gt;Developer w…</td><td>50</td><td>147914</td><td>null</td><td>26</td><td>{26,3,12}</td><td>2010-06-05</td><td>&quot;iTSrAVIE&quot;</td><td>13</td><td>false</td><td>2018-10-17</td><td>2019-11-13</td><td>&quot;https://stacko…</td><td>&quot;Mumbai, Mahara…</td><td>&quot;https://i.stac…</td><td>14</td><td>846</td><td>0</td><td>0</td><td>0</td><td>0</td><td>0</td><td>null</td><td>103</td><td>359349</td><td>&quot;registered&quot;</td><td>200</td><td>&quot;&quot;</td></tr></tbody></table></div>"
      ],
      "text/plain": [
       "shape: (5, 28)\n",
       "┌────────────┬────────────┬────────────┬──────┬───┬─────────┬────────────┬────────────┬────────────┐\n",
       "│ about_me   ┆ accept_rat ┆ account_id ┆ age  ┆ … ┆ user_id ┆ user_type  ┆ view_count ┆ website_ur │\n",
       "│ ---        ┆ e          ┆ ---        ┆ ---  ┆   ┆ ---     ┆ ---        ┆ ---        ┆ l          │\n",
       "│ str        ┆ ---        ┆ i64        ┆ i64  ┆   ┆ i64     ┆ cat        ┆ i64        ┆ ---        │\n",
       "│            ┆ i64        ┆            ┆      ┆   ┆         ┆            ┆            ┆ str        │\n",
       "╞════════════╪════════════╪════════════╪══════╪═══╪═════════╪════════════╪════════════╪════════════╡\n",
       "│ <p>Author  ┆ 86         ┆ 11683      ┆ null ┆ … ┆ 22656   ┆ registered ┆ 2283688    ┆ http://csh │\n",
       "│ of <a href ┆            ┆            ┆      ┆   ┆         ┆            ┆            ┆ arpindepth │\n",
       "│ =\"https:// ┆            ┆            ┆      ┆   ┆         ┆            ┆            ┆ .com       │\n",
       "│ ww…        ┆            ┆            ┆      ┆   ┆         ┆            ┆            ┆            │\n",
       "│ <p>Author  ┆ 86         ┆ 11683      ┆ null ┆ … ┆ 22656   ┆ registered ┆ 2283688    ┆ http://csh │\n",
       "│ of <a href ┆            ┆            ┆      ┆   ┆         ┆            ┆            ┆ arpindepth │\n",
       "│ =\"https:// ┆            ┆            ┆      ┆   ┆         ┆            ┆            ┆ .com       │\n",
       "│ ww…        ┆            ┆            ┆      ┆   ┆         ┆            ┆            ┆            │\n",
       "│ <p>You     ┆ 94         ┆ 335069     ┆ null ┆ … ┆ 661933  ┆ registered ┆ 14536      ┆            │\n",
       "│ should     ┆            ┆            ┆      ┆   ┆         ┆            ┆            ┆            │\n",
       "│ accept the ┆            ┆            ┆      ┆   ┆         ┆            ┆            ┆            │\n",
       "│ answer …   ┆            ┆            ┆      ┆   ┆         ┆            ┆            ┆            │\n",
       "│ <p>I write ┆ 50         ┆ 3990       ┆ null ┆ … ┆ 5862    ┆ registered ┆ 996        ┆ http://sil │\n",
       "│ code.</p>  ┆            ┆            ┆      ┆   ┆         ┆            ┆            ┆ iconsea.ne │\n",
       "│            ┆            ┆            ┆      ┆   ┆         ┆            ┆            ┆ t/         │\n",
       "│ <p>Develop ┆ 50         ┆ 147914     ┆ null ┆ … ┆ 359349  ┆ registered ┆ 200        ┆            │\n",
       "│ er with 8+ ┆            ┆            ┆      ┆   ┆         ┆            ┆            ┆            │\n",
       "│ years      ┆            ┆            ┆      ┆   ┆         ┆            ┆            ┆            │\n",
       "│ exper…     ┆            ┆            ┆      ┆   ┆         ┆            ┆            ┆            │\n",
       "└────────────┴────────────┴────────────┴──────┴───┴─────────┴────────────┴────────────┴────────────┘"
      ]
     },
     "execution_count": 5,
     "metadata": {},
     "output_type": "execute_result"
    }
   ],
   "source": [
    "df_users.head()"
   ]
  },
  {
   "cell_type": "markdown",
   "metadata": {},
   "source": [
    "From a user we can identity the following interesting information:\n",
    "\n",
    "- The user's Account ID: `account_id`\n",
    "  - This is very important because it is the unique identifier for the user ACCROSS the entire Stack Exchange network.\n",
    "- The user's ID: `user_id`\n",
    "  - This is the unique identifier for the user on the specific site (here, Stack Overflow).\n",
    "- The number of answers the user has given: `answer_count`\n",
    "- The number of questions the user has asked: `question_count`\n",
    "- The number of upvotes the user has received: `up_vote_count`\n",
    "- The number of downvotes the user has received: `down_vote_count`\n",
    "- The rate of the user's answers being accepted: `accept_rate`\n",
    "- The user's location: `location`\n",
    "- The users's reputation: `reputation`\n"
   ]
  },
  {
   "cell_type": "code",
   "execution_count": 6,
   "metadata": {},
   "outputs": [
    {
     "data": {
      "text/html": [
       "<div><style>\n",
       ".dataframe > thead > tr,\n",
       ".dataframe > tbody > tr {\n",
       "  text-align: right;\n",
       "  white-space: pre-wrap;\n",
       "}\n",
       "</style>\n",
       "<small>shape: (5, 39)</small><table border=\"1\" class=\"dataframe\"><thead><tr><th>accepted_answer_id</th><th>answer_count</th><th>answers</th><th>body</th><th>body_markdown</th><th>bounty_amount</th><th>bounty_closes_date</th><th>bounty_user</th><th>close_vote_count</th><th>closed_date</th><th>closed_details</th><th>closed_reason</th><th>comment_count</th><th>comments</th><th>community_owned_date</th><th>content_license</th><th>creation_date</th><th>delete_vote_count</th><th>down_vote_count</th><th>favorite_count</th><th>is_answered</th><th>last_activity_date</th><th>last_edit_date</th><th>last_editor</th><th>link</th><th>locked_date</th><th>migrated_from</th><th>migrated_to</th><th>notice</th><th>owner</th><th>protected_date</th><th>question_id</th><th>reopen_vote_count</th><th>score</th><th>share_link</th><th>tags</th><th>title</th><th>up_vote_count</th><th>view_count</th></tr><tr><td>i64</td><td>i64</td><td>list[struct[26]]</td><td>str</td><td>str</td><td>i64</td><td>date</td><td>struct[1]</td><td>i64</td><td>date</td><td>struct[1]</td><td>str</td><td>i64</td><td>list[struct[13]]</td><td>date</td><td>str</td><td>date</td><td>i64</td><td>i64</td><td>i64</td><td>bool</td><td>date</td><td>date</td><td>struct[8]</td><td>str</td><td>date</td><td>struct[1]</td><td>struct[1]</td><td>struct[3]</td><td>struct[8]</td><td>date</td><td>i64</td><td>i64</td><td>i64</td><td>str</td><td>list[str]</td><td>str</td><td>i64</td><td>i64</td></tr></thead><tbody><tr><td>247623</td><td>13</td><td>[{247623,null,null,null,null,null,null,null,null,2008-10-29,&quot;CC BY-SA 4.0&quot;,2008-10-29,null,true,2023-12-12,2023-12-12,{null,{null,null,null},null,null,null,null,null,null},null,null,{86,{9237,873,9186},&quot;Jon Skeet&quot;,&quot;https://stackoverflow.com/users/22656/jon-skeet&quot;,&quot;https://www.gravatar.com/avatar/6d8ebb117e8d83d74ea95fbdd0f87e13?s=256&amp;d=identicon&amp;r=PG&quot;,1447238,22656,&quot;registered&quot;},247621,3190,null,null,null,null}, {317885,null,null,null,null,null,null,null,null,2008-11-25,&quot;CC BY-SA 4.0&quot;,2008-11-25,null,false,2021-08-28,2021-08-28,{null,{null,null,null},null,null,null,null,null,null},null,null,{50,{41,3,38},&quot;Astra&quot;,&quot;https://stackoverflow.com/users/5862/astra&quot;,&quot;https://www.gravatar.com/avatar/73882fc47c81bccc5924afcb08a404a2?s=256&amp;d=identicon&amp;r=PG&quot;,10965,5862,&quot;registered&quot;},247621,330,null,null,null,null}, … {75858507,null,null,null,null,null,null,null,null,2023-03-27,&quot;CC BY-SA 4.0&quot;,2023-03-27,null,false,2023-03-27,2023-03-27,{null,{null,null,null},null,null,null,null,null,null},null,null,{null,{14,2,6},&quot;Ahmad Adibzad&quot;,&quot;https://stackoverflow.com/users/18582805/ahmad-adibzad&quot;,&quot;https://www.gravatar.com/avatar/26584d07294691563c14f6ac8a249991?s=256&amp;d=identicon&amp;r=PG&quot;,543,18582805,&quot;registered&quot;},247621,2,null,null,null,null}]</td><td>&quot;&lt;p&gt;What are th…</td><td>&quot;What are the c…</td><td>null</td><td>null</td><td>{null}</td><td>0</td><td>null</td><td>{null}</td><td>null</td><td>4</td><td>[{&quot;This is one of a good source to understand everything. &lt;a href=&quot;http://en.wikipedia.org/wiki/C_Sharp_(programming_language)&quot; rel=&quot;nofollow noreferrer&quot;&gt;en.wikipedia.org/wiki/C_Sharp_(programming_language)&lt;/a&gt;&quot;,&quot;This is one of a good source to understand everything. http://en.wikipedia.org/wiki/C_Sharp_(programming_language)&quot;,false,18759064,&quot;CC BY-SA 3.0&quot;,2012-12-02,false,&quot;https://stackoverflow.com/questions/247621/what-are-the-correct-version-numbers-for-c#comment18759064_247621&quot;,{null,{null,null,null},&quot;user725388&quot;,null,null,null,null,&quot;does_not_exist&quot;},247621,&quot;question&quot;,{null,{null,null,null},null,null,null,null,null,null},92}, {&quot;Shouldn&amp;#39;t that second paragraph be in a comment instead of the question, since it&amp;#39;s not part of the question&quot;,&quot;Shouldn&#x27;t that second paragraph be in a comment instead of the question, since it&#x27;s not part of the question&quot;,false,70397741,&quot;CC BY-SA 3.0&quot;,2017-01-11,false,&quot;https://stackoverflow.com/questions/247621/what-are-the-correct-version-numbers-for-c#comment70397741_247621&quot;,{85,{106,6,69},&quot;TankorSmash&quot;,&quot;https://stackoverflow.com/users/541208/tankorsmash&quot;,&quot;https://www.gravatar.com/avatar/2dfc2e563d2150994a6e06ef37f9e7be?s=256&amp;d=identicon&amp;r=PG&quot;,12296,541208,&quot;registered&quot;},247621,&quot;question&quot;,{null,{null,null,null},null,null,null,null,null,null},1}, … {&quot;&lt;a href=&quot;https://learn.microsoft.com/en-us/dotnet/csharp/language-reference/configure-language-version&quot; rel=&quot;nofollow noreferrer&quot;&gt;learn.microsoft.com/en-us/dotnet/csharp/language-reference/&amp;hellip;&lt;/a&gt;&quot;,&quot;https://learn.microsoft.com/en-us/dotnet/csharp/language-reference/configure-language-version&quot;,false,111491677,&quot;CC BY-SA 4.0&quot;,2020-07-23,false,&quot;https://stackoverflow.com/questions/247621/what-are-the-correct-version-numbers-for-c#comment111491677_247621&quot;,{null,{11,0,8},&quot;kotpal&quot;,&quot;https://stackoverflow.com/users/2183503/kotpal&quot;,&quot;https://www.gravatar.com/avatar/b31d2e9f201eae8e66a68c1ad52e0ac3?s=256&amp;d=identicon&amp;r=PG&quot;,447,2183503,&quot;registered&quot;},247621,&quot;question&quot;,{null,{null,null,null},null,null,null,null,null,null},0}]</td><td>2008-10-29</td><td>null</td><td>2008-10-29</td><td>0</td><td>26</td><td>0</td><td>true</td><td>2023-12-12</td><td>2022-03-01</td><td>{null,{23,1,7},&quot;Darth-CodeX&quot;,&quot;https://stackoverflow.com/users/17939455/darth-codex&quot;,&quot;https://i.stack.imgur.com/pFylE.jpg?s=256&amp;g=1&quot;,2184,17939455,&quot;registered&quot;}</td><td>&quot;https://stacko…</td><td>null</td><td>{null}</td><td>{null}</td><td>{null,null,null}</td><td>{86,{9237,873,9186},&quot;Jon Skeet&quot;,&quot;https://stackoverflow.com/users/22656/jon-skeet&quot;,&quot;https://www.gravatar.com/avatar/6d8ebb117e8d83d74ea95fbdd0f87e13?s=256&amp;d=identicon&amp;r=PG&quot;,1447238,22656,&quot;registered&quot;}</td><td>2012-11-05</td><td>247621</td><td>0</td><td>2891</td><td>&quot;https://stacko…</td><td>[&quot;c#&quot;, &quot;.net&quot;, … &quot;.net-framework-version&quot;]</td><td>&quot;What are the c…</td><td>2917</td><td>423801</td></tr><tr><td>77423144</td><td>2</td><td>[{77423017,null,null,null,null,null,null,null,null,null,&quot;CC BY-SA 4.0&quot;,2023-11-04,null,false,2023-11-04,null,{null,{null,null,null},null,null,null,null,null,null},null,null,{null,{11,1,2},&quot;MIHOW&quot;,&quot;https://stackoverflow.com/users/10706024/mihow&quot;,&quot;https://www.gravatar.com/avatar/176ad842206d5905bbbc7d87aea743ad?s=256&amp;d=identicon&amp;r=PG&quot;,296,10706024,&quot;registered&quot;},77422804,0,null,null,null,null}, {77423144,null,null,null,null,null,null,null,null,null,&quot;CC BY-SA 4.0&quot;,2023-11-04,null,true,2023-11-04,null,{null,{null,null,null},null,null,null,null,null,null},null,null,{null,{270,13,156},&quot;Clemens&quot;,&quot;https://stackoverflow.com/users/1136211/clemens&quot;,&quot;https://www.gravatar.com/avatar/ecd80cd7d5927902f3af471fa0353836?s=256&amp;d=identicon&amp;r=PG&quot;,124931,1136211,&quot;registered&quot;},77422804,4,null,null,null,null}]</td><td>&quot;&lt;p&gt;I have a &lt;c…</td><td>&quot;I have a `Scro…</td><td>null</td><td>null</td><td>{null}</td><td>0</td><td>null</td><td>{null}</td><td>null</td><td>0</td><td>null</td><td>null</td><td>null</td><td>2023-11-04</td><td>0</td><td>0</td><td>0</td><td>true</td><td>2023-11-04</td><td>null</td><td>{null,{null,null,null},null,null,null,null,null,null}</td><td>&quot;https://stacko…</td><td>null</td><td>{null}</td><td>{null}</td><td>{null,null,null}</td><td>{86,{9237,873,9186},&quot;Jon Skeet&quot;,&quot;https://stackoverflow.com/users/22656/jon-skeet&quot;,&quot;https://www.gravatar.com/avatar/6d8ebb117e8d83d74ea95fbdd0f87e13?s=256&amp;d=identicon&amp;r=PG&quot;,1447238,22656,&quot;registered&quot;}</td><td>null</td><td>77422804</td><td>0</td><td>2</td><td>&quot;https://stacko…</td><td>[&quot;wpf&quot;]</td><td>&quot;How can I only…</td><td>2</td><td>280</td></tr><tr><td>76172541</td><td>2</td><td>[{76172541,null,null,null,null,null,null,null,null,null,&quot;CC BY-SA 4.0&quot;,2023-05-04,null,true,2023-05-04,null,{null,{null,null,null},null,null,null,null,null,null},null,null,{86,{9237,873,9186},&quot;Jon Skeet&quot;,&quot;https://stackoverflow.com/users/22656/jon-skeet&quot;,&quot;https://www.gravatar.com/avatar/6d8ebb117e8d83d74ea95fbdd0f87e13?s=256&amp;d=identicon&amp;r=PG&quot;,1447238,22656,&quot;registered&quot;},76172540,6,null,null,null,null}, {76173567,null,null,null,null,null,null,null,null,null,&quot;CC BY-SA 4.0&quot;,2023-05-04,null,false,2023-09-13,2023-09-13,{null,{null,null,null},null,null,null,null,null,null},null,null,{71,{34,2,25},&quot;dbasnett&quot;,&quot;https://stackoverflow.com/users/66532/dbasnett&quot;,&quot;https://i.stack.imgur.com/nnS3q.jpg?s=256&amp;g=1&quot;,11561,66532,&quot;registered&quot;},76172540,4,null,null,null,null}]</td><td>&quot;&lt;p&gt;I receive a…</td><td>&quot;I receive a st…</td><td>null</td><td>null</td><td>{null}</td><td>0</td><td>null</td><td>{null}</td><td>null</td><td>0</td><td>null</td><td>null</td><td>null</td><td>2023-05-04</td><td>0</td><td>0</td><td>0</td><td>true</td><td>2023-09-13</td><td>2023-05-04</td><td>{86,{9237,873,9186},&quot;Jon Skeet&quot;,&quot;https://stackoverflow.com/users/22656/jon-skeet&quot;,&quot;https://www.gravatar.com/avatar/6d8ebb117e8d83d74ea95fbdd0f87e13?s=256&amp;d=identicon&amp;r=PG&quot;,1447238,22656,&quot;registered&quot;}</td><td>&quot;https://stacko…</td><td>null</td><td>{null}</td><td>{null}</td><td>{null,null,null}</td><td>{86,{9237,873,9186},&quot;Jon Skeet&quot;,&quot;https://stackoverflow.com/users/22656/jon-skeet&quot;,&quot;https://www.gravatar.com/avatar/6d8ebb117e8d83d74ea95fbdd0f87e13?s=256&amp;d=identicon&amp;r=PG&quot;,1447238,22656,&quot;registered&quot;}</td><td>null</td><td>76172540</td><td>0</td><td>4</td><td>&quot;https://stacko…</td><td>[&quot;string&quot;, &quot;vb.net&quot;, &quot;trim&quot;]</td><td>&quot;How can I trim…</td><td>4</td><td>638</td></tr><tr><td>74327430</td><td>2</td><td>[{74327430,null,null,null,null,null,null,null,null,null,&quot;CC BY-SA 4.0&quot;,2022-11-05,null,true,2022-11-06,2022-11-06,{null,{null,null,null},null,null,null,null,null,null},null,null,{81,{54,7,42},&quot;Alistair Evans&quot;,&quot;https://stackoverflow.com/users/114400/alistair-evans&quot;,&quot;https://i.stack.imgur.com/h6z7u.jpg?s=256&amp;g=1&quot;,36217,114400,&quot;registered&quot;},74327225,145,null,null,null,null}, {75185658,null,null,null,null,null,null,null,null,null,&quot;CC BY-SA 4.0&quot;,2023-01-20,null,false,2023-01-20,null,{null,{null,null,null},null,null,null,null,null,null},null,null,{92,{40,0,19},&quot;Stephan Møller&quot;,&quot;https://stackoverflow.com/users/641614/stephan-m%c3%b8ller&quot;,&quot;https://www.gravatar.com/avatar/500a725c2d3561f8ac58a1e415deac4f?s=256&amp;d=identicon&amp;r=PG&quot;,1257,641614,&quot;registered&quot;},74327225,2,null,null,null,null}]</td><td>&quot;&lt;p&gt;I&#x27;m trying …</td><td>&quot;I&#x27;m trying to …</td><td>null</td><td>null</td><td>{null}</td><td>0</td><td>null</td><td>{null}</td><td>null</td><td>0</td><td>null</td><td>null</td><td>null</td><td>2022-11-05</td><td>0</td><td>1</td><td>0</td><td>true</td><td>2023-01-20</td><td>2022-11-07</td><td>{85,{93,9,59},&quot;Ofer Zelig&quot;,&quot;https://stackoverflow.com/users/290343/ofer-zelig&quot;,&quot;https://www.gravatar.com/avatar/eba97987184388ac4af5fea5067897a4?s=256&amp;d=identicon&amp;r=PG&quot;,17168,290343,&quot;registered&quot;}</td><td>&quot;https://stacko…</td><td>null</td><td>{null}</td><td>{null}</td><td>{null,null,null}</td><td>{86,{9237,873,9186},&quot;Jon Skeet&quot;,&quot;https://stackoverflow.com/users/22656/jon-skeet&quot;,&quot;https://www.gravatar.com/avatar/6d8ebb117e8d83d74ea95fbdd0f87e13?s=256&amp;d=identicon&amp;r=PG&quot;,1447238,22656,&quot;registered&quot;}</td><td>null</td><td>74327225</td><td>0</td><td>106</td><td>&quot;https://stacko…</td><td>[&quot;c#&quot;, &quot;udp&quot;, &quot;udpclient&quot;]</td><td>&quot;Why does sendi…</td><td>107</td><td>6958</td></tr><tr><td>null</td><td>407</td><td>[{406762,null,null,null,null,null,null,null,null,2009-01-02,&quot;CC BY-SA 2.5&quot;,2009-01-02,null,false,2009-01-09,2009-01-09,{null,{null,null,null},null,null,null,null,null,null},null,null,{null,{19,0,10},&quot;Max&quot;,&quot;https://stackoverflow.com/users/50023/max&quot;,&quot;https://www.gravatar.com/avatar/dc3fb02c68352d89789ce53e0966dd04?s=256&amp;d=identicon&amp;r=PG&quot;,1044,50023,&quot;registered&quot;},406760,86,null,null,null,null}, {406764,null,null,null,null,null,null,null,null,2009-01-02,&quot;CC BY-SA 2.5&quot;,2009-01-02,null,false,2009-11-05,2009-11-05,{null,{null,null,null},null,null,null,null,null,null},null,null,{85,{228,17,162},&quot;Otávio Décio&quot;,&quot;https://stackoverflow.com/users/48684/ot%c3%a1vio-d%c3%a9cio&quot;,&quot;https://www.gravatar.com/avatar/0230d2851b6b94f3a0786d297f64091a?s=256&amp;d=identicon&amp;r=PG&quot;,74148,48684,&quot;registered&quot;},406760,13,null,null,null,null}, … {1968361,null,null,null,null,null,null,null,null,2009-12-28,&quot;CC BY-SA 2.5&quot;,2009-12-28,null,false,2009-12-28,null,{null,{null,null,null},null,null,null,null,null,null},null,null,{80,{89,7,65},&quot;Justin Johnson&quot;,&quot;https://stackoverflow.com/users/126562/justin-johnson&quot;,&quot;https://www.gravatar.com/avatar/f0603838f9f83365d366af5206aeaaf0?s=256&amp;d=identicon&amp;r=PG&quot;,31108,126562,&quot;registered&quot;},406760,4,null,null,null,null}]</td><td>&quot;&lt;p&gt;This is def…</td><td>&quot;This is defini…</td><td>null</td><td>null</td><td>{null}</td><td>0</td><td>null</td><td>{null}</td><td>null</td><td>0</td><td>null</td><td>2009-01-02</td><td>null</td><td>2009-01-02</td><td>0</td><td>23</td><td>0</td><td>true</td><td>2023-01-06</td><td>2017-05-23</td><td>{null,{0,0,1},&quot;Community&quot;,&quot;https://stackoverflow.com/users/-1/community&quot;,&quot;https://www.gravatar.com/avatar/a007be5a61f6aa8f3e85ae2fc18dd66e?s=256&amp;d=identicon&amp;r=PG&quot;,1,-1,&quot;moderator&quot;}</td><td>&quot;https://stacko…</td><td>2012-06-14</td><td>{null}</td><td>{null}</td><td>{&quot;&lt;p&gt;Lock this post if it’s off-topic but has historical significance.&lt;/p&gt;&quot;,2012-06-14,811}</td><td>{86,{9237,873,9186},&quot;Jon Skeet&quot;,&quot;https://stackoverflow.com/users/22656/jon-skeet&quot;,&quot;https://www.gravatar.com/avatar/6d8ebb117e8d83d74ea95fbdd0f87e13?s=256&amp;d=identicon&amp;r=PG&quot;,1447238,22656,&quot;registered&quot;}</td><td>null</td><td>406760</td><td>0</td><td>363</td><td>&quot;https://stacko…</td><td>[&quot;language-agnostic&quot;]</td><td>&quot;What&#x27;s your mo…</td><td>386</td><td>308457</td></tr></tbody></table></div>"
      ],
      "text/plain": [
       "shape: (5, 39)\n",
       "┌───────────┬───────────┬───────────┬───────────┬───┬───────────┬───────────┬───────────┬──────────┐\n",
       "│ accepted_ ┆ answer_co ┆ answers   ┆ body      ┆ … ┆ tags      ┆ title     ┆ up_vote_c ┆ view_cou │\n",
       "│ answer_id ┆ unt       ┆ ---       ┆ ---       ┆   ┆ ---       ┆ ---       ┆ ount      ┆ nt       │\n",
       "│ ---       ┆ ---       ┆ list[stru ┆ str       ┆   ┆ list[str] ┆ str       ┆ ---       ┆ ---      │\n",
       "│ i64       ┆ i64       ┆ ct[26]]   ┆           ┆   ┆           ┆           ┆ i64       ┆ i64      │\n",
       "╞═══════════╪═══════════╪═══════════╪═══════════╪═══╪═══════════╪═══════════╪═══════════╪══════════╡\n",
       "│ 247623    ┆ 13        ┆ [{247623, ┆ <p>What   ┆ … ┆ [\"c#\",    ┆ What are  ┆ 2917      ┆ 423801   │\n",
       "│           ┆           ┆ null,null ┆ are the   ┆   ┆ \".net\", … ┆ the       ┆           ┆          │\n",
       "│           ┆           ┆ ,null,nul ┆ correct   ┆   ┆ \".net-fra ┆ correct   ┆           ┆          │\n",
       "│           ┆           ┆ l,nul…    ┆ version … ┆   ┆ mework…   ┆ version   ┆           ┆          │\n",
       "│           ┆           ┆           ┆           ┆   ┆           ┆ num…      ┆           ┆          │\n",
       "│ 77423144  ┆ 2         ┆ [{7742301 ┆ <p>I have ┆ … ┆ [\"wpf\"]   ┆ How can I ┆ 2         ┆ 280      │\n",
       "│           ┆           ┆ 7,null,nu ┆ a <code>S ┆   ┆           ┆ only      ┆           ┆          │\n",
       "│           ┆           ┆ ll,null,n ┆ crollView ┆   ┆           ┆ scroll a  ┆           ┆          │\n",
       "│           ┆           ┆ ull,n…    ┆ er</…     ┆   ┆           ┆ single n… ┆           ┆          │\n",
       "│ 76172541  ┆ 2         ┆ [{7617254 ┆ <p>I      ┆ … ┆ [\"string\" ┆ How can I ┆ 4         ┆ 638      │\n",
       "│           ┆           ┆ 1,null,nu ┆ receive a ┆   ┆ ,         ┆ trim      ┆           ┆          │\n",
       "│           ┆           ┆ ll,null,n ┆ string    ┆   ┆ \"vb.net\", ┆ double    ┆           ┆          │\n",
       "│           ┆           ┆ ull,n…    ┆ which     ┆   ┆ \"trim\"]   ┆ quotes    ┆           ┆          │\n",
       "│           ┆           ┆           ┆ some…     ┆   ┆           ┆ fro…      ┆           ┆          │\n",
       "│ 74327430  ┆ 2         ┆ [{7432743 ┆ <p>I'm    ┆ … ┆ [\"c#\",    ┆ Why does  ┆ 107       ┆ 6958     │\n",
       "│           ┆           ┆ 0,null,nu ┆ trying to ┆   ┆ \"udp\",    ┆ sending   ┆           ┆          │\n",
       "│           ┆           ┆ ll,null,n ┆ create a  ┆   ┆ \"udpclien ┆ via a Udp ┆           ┆          │\n",
       "│           ┆           ┆ ull,n…    ┆ UDP se…   ┆   ┆ t\"]       ┆ Client…   ┆           ┆          │\n",
       "│ null      ┆ 407       ┆ [{406762, ┆ <p>This   ┆ … ┆ [\"languag ┆ What's    ┆ 386       ┆ 308457   │\n",
       "│           ┆           ┆ null,null ┆ is defini ┆   ┆ e-agnosti ┆ your most ┆           ┆          │\n",
       "│           ┆           ┆ ,null,nul ┆ tely subj ┆   ┆ c\"]       ┆ controver ┆           ┆          │\n",
       "│           ┆           ┆ l,nul…    ┆ ective…   ┆   ┆           ┆ sial p…   ┆           ┆          │\n",
       "└───────────┴───────────┴───────────┴───────────┴───┴───────────┴───────────┴───────────┴──────────┘"
      ]
     },
     "execution_count": 6,
     "metadata": {},
     "output_type": "execute_result"
    }
   ],
   "source": [
    "df_questions.head()"
   ]
  },
  {
   "cell_type": "markdown",
   "metadata": {},
   "source": [
    "From a question we can identity the following interesting information:\n",
    "\n",
    "- The question's ID: `question_id`\n",
    "- The user who asked the question: `owner`\n",
    "  - Note that this is a \"shallow user\" object, from which we can extract the `user_id` of the user.\n",
    "- The accepted answer's ID to the question: `accepted_answer_id` (if it exists)\n",
    "- The number of answers the question has received: `answer_count`\n",
    "- The number of upvotes the question has received: `up_vote_count`\n",
    "- The number of downvotes the question has received: `down_vote_count`\n",
    "- The number of favorites the question has received: `favorite_count`\n",
    "- The last editor of the question: `last_editor`\n",
    "  - Note that this is a \"shallow user\" object, from which we can extract the `user_id` of the user.\n",
    "- The number of views the question has received: `view_count`\n",
    "- The question's tags: `tags`\n",
    "  - Note that this is a list of strings, which can be used to identify the topics of the question.\n",
    "  - We could potentially link questions with similar tags together.\n"
   ]
  },
  {
   "cell_type": "code",
   "execution_count": 7,
   "metadata": {},
   "outputs": [
    {
     "data": {
      "text/html": [
       "<div><style>\n",
       ".dataframe > thead > tr,\n",
       ".dataframe > tbody > tr {\n",
       "  text-align: right;\n",
       "  white-space: pre-wrap;\n",
       "}\n",
       "</style>\n",
       "<small>shape: (5, 26)</small><table border=\"1\" class=\"dataframe\"><thead><tr><th>answer_id</th><th>awarded_bounty_amount</th><th>awarded_bounty_users</th><th>body</th><th>body_markdown</th><th>can_comment</th><th>can_flag</th><th>comment_count</th><th>comments</th><th>community_owned_date</th><th>content_license</th><th>creation_date</th><th>down_vote_count</th><th>is_accepted</th><th>last_activity_date</th><th>last_edit_date</th><th>last_editor</th><th>link</th><th>locked_date</th><th>owner</th><th>question_id</th><th>score</th><th>share_link</th><th>tags</th><th>title</th><th>up_vote_count</th></tr><tr><td>i64</td><td>i64</td><td>list[struct[8]]</td><td>str</td><td>str</td><td>bool</td><td>bool</td><td>i64</td><td>list[struct[13]]</td><td>date</td><td>str</td><td>date</td><td>i64</td><td>bool</td><td>date</td><td>date</td><td>struct[8]</td><td>str</td><td>date</td><td>struct[8]</td><td>i64</td><td>i64</td><td>str</td><td>list[str]</td><td>str</td><td>i64</td></tr></thead><tbody><tr><td>247623</td><td>null</td><td>null</td><td>&quot;&lt;h1&gt;C# languag…</td><td>&quot;# C# language …</td><td>null</td><td>false</td><td>2</td><td>[{&quot;Not sure when the document was posted, but in 2022 we have &lt;a href=&quot;https://learn.microsoft.com/en-us/dotnet/csharp/whats-new/csharp-version-history&quot; rel=&quot;nofollow noreferrer&quot;&gt;link&lt;/a&gt;&quot;,&quot;Not sure when the document was posted, but in 2022 we have [link](https://learn.microsoft.com/en-us/dotnet/csharp/whats-new/csharp-version-history)&quot;,false,130601612,&quot;CC BY-SA 4.0&quot;,2022-10-05,false,&quot;https://stackoverflow.com/questions/247621/what-are-the-correct-version-numbers-for-c/247623#comment130601612_247623&quot;,{null,{10,0,0},&quot;WLFree&quot;,&quot;https://stackoverflow.com/users/12854214/wlfree&quot;,&quot;https://lh3.googleusercontent.com/a-/AAuE7mBJt3OeV8McjClwodfU6ht2fsdUM0TMDs0oHXxhOg=k-s256&quot;,119,12854214,&quot;registered&quot;},247623,&quot;answer&quot;,{null,{null,null,null},null,null,null,null,null,null},4}, {&quot;@WLFree it was originally created on Oct 29, 2008 at 17:10 by Jon Skeet&quot;,&quot;@WLFree it was originally created on Oct 29, 2008 at 17:10 by Jon Skeet&quot;,false,136886598,&quot;CC BY-SA 4.0&quot;,2023-12-12,false,&quot;https://stackoverflow.com/questions/247621/what-are-the-correct-version-numbers-for-c/247623#comment136886598_247623&quot;,{null,{155,11,119},&quot;Guru Stron&quot;,&quot;https://stackoverflow.com/users/2501279/guru-stron&quot;,&quot;https://i.stack.imgur.com/GO0W9.jpg?s=256&amp;g=1&quot;,118140,2501279,&quot;registered&quot;},247623,&quot;answer&quot;,{null,{10,0,0},&quot;WLFree&quot;,&quot;https://stackoverflow.com/users/12854214/wlfree&quot;,&quot;https://lh3.googleusercontent.com/a-/AAuE7mBJt3OeV8McjClwodfU6ht2fsdUM0TMDs0oHXxhOg=k-s256&quot;,119,12854214,&quot;registered&quot;},0}]</td><td>2008-10-29</td><td>&quot;CC BY-SA 4.0&quot;</td><td>2008-10-29</td><td>3</td><td>true</td><td>2023-12-12</td><td>2023-12-12</td><td>{100,{2918,268,2584},&quot;Marc Gravell&quot;,&quot;https://stackoverflow.com/users/23354/marc-gravell&quot;,&quot;https://i.stack.imgur.com/CrVFH.png?s=256&amp;g=1&quot;,1038539,23354,&quot;registered&quot;}</td><td>&quot;https://stacko…</td><td>null</td><td>{86,{9237,873,9186},&quot;Jon Skeet&quot;,&quot;https://stackoverflow.com/users/22656/jon-skeet&quot;,&quot;https://www.gravatar.com/avatar/6d8ebb117e8d83d74ea95fbdd0f87e13?s=256&amp;d=identicon&amp;r=PG&quot;,1447238,22656,&quot;registered&quot;}</td><td>247621</td><td>3190</td><td>&quot;https://stacko…</td><td>[]</td><td>&quot;What are the c…</td><td>3193</td></tr><tr><td>38506668</td><td>null</td><td>null</td><td>&quot;&lt;p&gt;This is the…</td><td>&quot;This is the sa…</td><td>null</td><td>false</td><td>3</td><td>[{&quot;@Dai, There is no implication in my answer that C# 8.0 is tied to .NET 4.8 In fact there was never a requirement that certain compiler versions required certain .NET versions absolutely, except for select few features. That was true even before C# 8.0. My answer just tracks the timelines of VS, .NET and C# versions.  My original answer was in the context of .NET full framework, until that ceased to exist. You can see that there is no other .NET Core versions in the table, because I didnt take the pain to cover that as well. With your edit, viewers will lose information about .NET 4.8.&quot;,&quot;@Dai, There is no implication in my answer that C# 8.0 is tied to .NET 4.8 In fact there was never a requirement that certain compiler versions required certain .NET versions absolutely, except for select few features. That was true even before C# 8.0. My answer just tracks the timelines of VS, .NET and C# versions.\n",
       "\n",
       "My original answer was in the context of .NET full framework, until that ceased to exist. You can see that there is no other .NET Core versions in the table, because I didnt take the pain to cover that as well. With your edit, viewers will lose information about .NET 4.8.&quot;,false,117329525,&quot;CC BY-SA 4.0&quot;,2021-02-25,false,&quot;https://stackoverflow.com/questions/247621/what-are-the-correct-version-numbers-for-c/38506668#comment117329525_38506668&quot;,{94,{371,56,330},&quot;nawfal&quot;,&quot;https://stackoverflow.com/users/661933/nawfal&quot;,&quot;https://www.gravatar.com/avatar/a60e16ef8a1f18164882bfbc7d1a1ea1?s=256&amp;d=identicon&amp;r=PG&quot;,71209,661933,&quot;registered&quot;},38506668,&quot;answer&quot;,{56,{385,28,269},&quot;Dai&quot;,&quot;https://stackoverflow.com/users/159145/dai&quot;,&quot;https://i.stack.imgur.com/9Mufm.png?s=256&amp;g=1&quot;,145692,159145,&quot;registered&quot;},0}, {&quot;Please feel free to add an additional column for .NET Core versions.&quot;,&quot;Please feel free to add an additional column for .NET Core versions.&quot;,false,117329531,&quot;CC BY-SA 4.0&quot;,2021-02-25,false,&quot;https://stackoverflow.com/questions/247621/what-are-the-correct-version-numbers-for-c/38506668#comment117329531_38506668&quot;,{94,{371,56,330},&quot;nawfal&quot;,&quot;https://stackoverflow.com/users/661933/nawfal&quot;,&quot;https://www.gravatar.com/avatar/a60e16ef8a1f18164882bfbc7d1a1ea1?s=256&amp;d=identicon&amp;r=PG&quot;,71209,661933,&quot;registered&quot;},38506668,&quot;answer&quot;,{null,{null,null,null},null,null,null,null,null,null},0}, {&quot;@all, please dont add values if their released date doesn&amp;#39;t match. When I wrote this originally I didnt intend to associate .net version against every compiler version. Its just a timeline of various C# related releases. So naturally you could see I omitted some column values. This helps us giving a better idea which all releases were made together.&quot;,&quot;@all, please dont add values if their released date doesn&#x27;t match. When I wrote this originally I didnt intend to associate .net version against every compiler version. Its just a timeline of various C# related releases. So naturally you could see I omitted some column values. This helps us giving a better idea which all releases were made together.&quot;,false,119363005,&quot;CC BY-SA 4.0&quot;,2021-05-14,false,&quot;https://stackoverflow.com/questions/247621/what-are-the-correct-version-numbers-for-c/38506668#comment119363005_38506668&quot;,{94,{371,56,330},&quot;nawfal&quot;,&quot;https://stackoverflow.com/users/661933/nawfal&quot;,&quot;https://www.gravatar.com/avatar/a60e16ef8a1f18164882bfbc7d1a1ea1?s=256&amp;d=identicon&amp;r=PG&quot;,71209,661933,&quot;registered&quot;},38506668,&quot;answer&quot;,{null,{25,5,17},&quot;gurkan&quot;,&quot;https://stackoverflow.com/users/13664939/gurkan&quot;,&quot;https://i.stack.imgur.com/BwTpP.jpg?s=256&amp;g=1&quot;,1177,13664939,&quot;registered&quot;},0}]</td><td>2016-07-21</td><td>&quot;CC BY-SA 4.0&quot;</td><td>2016-07-21</td><td>0</td><td>false</td><td>2023-12-12</td><td>2023-12-12</td><td>{100,{2918,268,2584},&quot;Marc Gravell&quot;,&quot;https://stackoverflow.com/users/23354/marc-gravell&quot;,&quot;https://i.stack.imgur.com/CrVFH.png?s=256&amp;g=1&quot;,1038539,23354,&quot;registered&quot;}</td><td>&quot;https://stacko…</td><td>null</td><td>{94,{371,56,330},&quot;nawfal&quot;,&quot;https://stackoverflow.com/users/661933/nawfal&quot;,&quot;https://www.gravatar.com/avatar/a60e16ef8a1f18164882bfbc7d1a1ea1?s=256&amp;d=identicon&amp;r=PG&quot;,71209,661933,&quot;registered&quot;}</td><td>247621</td><td>481</td><td>&quot;https://stacko…</td><td>[]</td><td>&quot;What are the c…</td><td>481</td></tr><tr><td>317885</td><td>null</td><td>null</td><td>&quot;&lt;p&gt;The biggest…</td><td>&quot;The biggest pr…</td><td>null</td><td>false</td><td>0</td><td>null</td><td>2008-11-25</td><td>&quot;CC BY-SA 4.0&quot;</td><td>2008-11-25</td><td>0</td><td>false</td><td>2021-08-28</td><td>2021-08-28</td><td>{78,{131,22,107},&quot;Peter Mortensen&quot;,&quot;https://stackoverflow.com/users/63550/peter-mortensen&quot;,&quot;https://i.stack.imgur.com/RIZKi.png?s=256&amp;g=1&quot;,30856,63550,&quot;registered&quot;}</td><td>&quot;https://stacko…</td><td>null</td><td>{50,{41,3,38},&quot;Astra&quot;,&quot;https://stackoverflow.com/users/5862/astra&quot;,&quot;https://www.gravatar.com/avatar/73882fc47c81bccc5924afcb08a404a2?s=256&amp;d=identicon&amp;r=PG&quot;,10965,5862,&quot;registered&quot;}</td><td>247621</td><td>330</td><td>&quot;https://stacko…</td><td>[]</td><td>&quot;What are the c…</td><td>330</td></tr><tr><td>4570323</td><td>null</td><td>null</td><td>&quot;&lt;ul&gt;\n",
       "&lt;li&gt;&lt;p&gt;&lt;s…</td><td>&quot; - **C# 1.0** …</td><td>null</td><td>false</td><td>0</td><td>null</td><td>2010-12-31</td><td>&quot;CC BY-SA 4.0&quot;</td><td>2010-12-31</td><td>3</td><td>false</td><td>2021-08-28</td><td>2021-08-28</td><td>{78,{131,22,107},&quot;Peter Mortensen&quot;,&quot;https://stackoverflow.com/users/63550/peter-mortensen&quot;,&quot;https://i.stack.imgur.com/RIZKi.png?s=256&amp;g=1&quot;,30856,63550,&quot;registered&quot;}</td><td>&quot;https://stacko…</td><td>null</td><td>{50,{26,3,12},&quot;iTSrAVIE&quot;,&quot;https://stackoverflow.com/users/359349/itsravie&quot;,&quot;https://i.stack.imgur.com/torK7.gif?s=256&amp;g=1&quot;,846,359349,&quot;registered&quot;}</td><td>247621</td><td>222</td><td>&quot;https://stacko…</td><td>[]</td><td>&quot;What are the c…</td><td>225</td></tr><tr><td>2788024</td><td>null</td><td>null</td><td>&quot;&lt;div class=&quot;s-…</td><td>&quot;| [Version][1]…</td><td>null</td><td>false</td><td>2</td><td>[{&quot;Where did you get a C# 2.0 language specification in December 2002 from? Likewise C# 4 in June 2006? Are you sure you&amp;#39;re not talking about ECMA editions, which are completely different?&quot;,&quot;Where did you get a C# 2.0 language specification in December 2002 from? Likewise C# 4 in June 2006? Are you sure you&#x27;re not talking about ECMA editions, which are completely different?&quot;,false,2823790,&quot;CC BY-SA 2.5&quot;,2010-05-07,false,&quot;https://stackoverflow.com/questions/247621/what-are-the-correct-version-numbers-for-c/2788024#comment2823790_2788024&quot;,{86,{9237,873,9186},&quot;Jon Skeet&quot;,&quot;https://stackoverflow.com/users/22656/jon-skeet&quot;,&quot;https://www.gravatar.com/avatar/6d8ebb117e8d83d74ea95fbdd0f87e13?s=256&amp;d=identicon&amp;r=PG&quot;,1447238,22656,&quot;registered&quot;},2788024,&quot;answer&quot;,{null,{null,null,null},null,null,null,null,null,null},8}, {&quot;just refer the following link   &lt;a href=&quot;http://en.wikipedia.org/wiki/C_Sharp_(programming_language)&quot; rel=&quot;nofollow noreferrer&quot;&gt;en.wikipedia.org/wiki/C_Sharp_(programming_language)&lt;/a&gt;&quot;,&quot;just refer the following link\n",
       "\n",
       "\n",
       "http://en.wikipedia.org/wiki/C_Sharp_(programming_language)&quot;,false,2823822,&quot;CC BY-SA 2.5&quot;,2010-05-07,false,&quot;https://stackoverflow.com/questions/247621/what-are-the-correct-version-numbers-for-c/2788024#comment2823822_2788024&quot;,{null,{4,0,2},&quot;Pramodh&quot;,&quot;https://stackoverflow.com/users/335339/pramodh&quot;,&quot;https://www.gravatar.com/avatar/11740ce30c4efe6b93cac4bc7e979645?s=256&amp;d=identicon&amp;r=PG&quot;,28,335339,&quot;unregistered&quot;},2788024,&quot;answer&quot;,{null,{null,null,null},null,null,null,null,null,null},4}]</td><td>2010-05-07</td><td>&quot;CC BY-SA 4.0&quot;</td><td>2010-05-07</td><td>4</td><td>false</td><td>2021-08-28</td><td>2021-08-28</td><td>{78,{131,22,107},&quot;Peter Mortensen&quot;,&quot;https://stackoverflow.com/users/63550/peter-mortensen&quot;,&quot;https://i.stack.imgur.com/RIZKi.png?s=256&amp;g=1&quot;,30856,63550,&quot;registered&quot;}</td><td>&quot;https://stacko…</td><td>null</td><td>{null,{4,0,2},&quot;Pramodh&quot;,&quot;https://stackoverflow.com/users/335339/pramodh&quot;,&quot;https://www.gravatar.com/avatar/11740ce30c4efe6b93cac4bc7e979645?s=256&amp;d=identicon&amp;r=PG&quot;,28,335339,&quot;unregistered&quot;}</td><td>247621</td><td>99</td><td>&quot;https://stacko…</td><td>[]</td><td>&quot;What are the c…</td><td>103</td></tr></tbody></table></div>"
      ],
      "text/plain": [
       "shape: (5, 26)\n",
       "┌───────────┬───────────┬───────────┬───────────┬───┬───────────┬───────────┬───────────┬──────────┐\n",
       "│ answer_id ┆ awarded_b ┆ awarded_b ┆ body      ┆ … ┆ share_lin ┆ tags      ┆ title     ┆ up_vote_ │\n",
       "│ ---       ┆ ounty_amo ┆ ounty_use ┆ ---       ┆   ┆ k         ┆ ---       ┆ ---       ┆ count    │\n",
       "│ i64       ┆ unt       ┆ rs        ┆ str       ┆   ┆ ---       ┆ list[str] ┆ str       ┆ ---      │\n",
       "│           ┆ ---       ┆ ---       ┆           ┆   ┆ str       ┆           ┆           ┆ i64      │\n",
       "│           ┆ i64       ┆ list[stru ┆           ┆   ┆           ┆           ┆           ┆          │\n",
       "│           ┆           ┆ ct[8]]    ┆           ┆   ┆           ┆           ┆           ┆          │\n",
       "╞═══════════╪═══════════╪═══════════╪═══════════╪═══╪═══════════╪═══════════╪═══════════╪══════════╡\n",
       "│ 247623    ┆ null      ┆ null      ┆ <h1>C#    ┆ … ┆ https://s ┆ []        ┆ What are  ┆ 3193     │\n",
       "│           ┆           ┆           ┆ language  ┆   ┆ tackoverf ┆           ┆ the       ┆          │\n",
       "│           ┆           ┆           ┆ version   ┆   ┆ low.com/a ┆           ┆ correct   ┆          │\n",
       "│           ┆           ┆           ┆ history:… ┆   ┆ /2476…    ┆           ┆ version   ┆          │\n",
       "│           ┆           ┆           ┆           ┆   ┆           ┆           ┆ num…      ┆          │\n",
       "│ 38506668  ┆ null      ┆ null      ┆ <p>This   ┆ … ┆ https://s ┆ []        ┆ What are  ┆ 481      │\n",
       "│           ┆           ┆           ┆ is the    ┆   ┆ tackoverf ┆           ┆ the       ┆          │\n",
       "│           ┆           ┆           ┆ same as   ┆   ┆ low.com/a ┆           ┆ correct   ┆          │\n",
       "│           ┆           ┆           ┆ most      ┆   ┆ /3850…    ┆           ┆ version   ┆          │\n",
       "│           ┆           ┆           ┆ answ…     ┆   ┆           ┆           ┆ num…      ┆          │\n",
       "│ 317885    ┆ null      ┆ null      ┆ <p>The    ┆ … ┆ https://s ┆ []        ┆ What are  ┆ 330      │\n",
       "│           ┆           ┆           ┆ biggest   ┆   ┆ tackoverf ┆           ┆ the       ┆          │\n",
       "│           ┆           ┆           ┆ problem   ┆   ┆ low.com/a ┆           ┆ correct   ┆          │\n",
       "│           ┆           ┆           ┆ when      ┆   ┆ /3178…    ┆           ┆ version   ┆          │\n",
       "│           ┆           ┆           ┆ deal…     ┆   ┆           ┆           ┆ num…      ┆          │\n",
       "│ 4570323   ┆ null      ┆ null      ┆ <ul>      ┆ … ┆ https://s ┆ []        ┆ What are  ┆ 225      │\n",
       "│           ┆           ┆           ┆ <li><p><s ┆   ┆ tackoverf ┆           ┆ the       ┆          │\n",
       "│           ┆           ┆           ┆ trong>C#  ┆   ┆ low.com/a ┆           ┆ correct   ┆          │\n",
       "│           ┆           ┆           ┆ 1.0</stro ┆   ┆ /4570…    ┆           ┆ version   ┆          │\n",
       "│           ┆           ┆           ┆ …         ┆   ┆           ┆           ┆ num…      ┆          │\n",
       "│ 2788024   ┆ null      ┆ null      ┆ <div clas ┆ … ┆ https://s ┆ []        ┆ What are  ┆ 103      │\n",
       "│           ┆           ┆           ┆ s=\"s-tabl ┆   ┆ tackoverf ┆           ┆ the       ┆          │\n",
       "│           ┆           ┆           ┆ e-contain ┆   ┆ low.com/a ┆           ┆ correct   ┆          │\n",
       "│           ┆           ┆           ┆ er\">      ┆   ┆ /2788…    ┆           ┆ version   ┆          │\n",
       "│           ┆           ┆           ┆ …         ┆   ┆           ┆           ┆ num…      ┆          │\n",
       "└───────────┴───────────┴───────────┴───────────┴───┴───────────┴───────────┴───────────┴──────────┘"
      ]
     },
     "execution_count": 7,
     "metadata": {},
     "output_type": "execute_result"
    }
   ],
   "source": [
    "df_answers.head()"
   ]
  },
  {
   "cell_type": "markdown",
   "metadata": {},
   "source": [
    "From an answer we can identity the following interesting information:\n",
    "\n",
    "- The answer's ID: `answer_id`\n",
    "- The user who answered the question: `owner`\n",
    "  - Note that this is a \"shallow user\" object, from which we can extract the `user_id` of the user.\n",
    "- The question the answer is answering: `question_id`\n",
    "- The number of upvotes the answer has received: `up_vote_count`\n",
    "- The number of downvotes the answer has received: `down_vote_count`\n",
    "- The number of comments the answer has received: `comment_count`\n",
    "- The answer's score: `score`\n",
    "- The answer's tags: `tags`\n",
    "  - Note that this is a list of strings, which can be used to identify the topics of the answer.\n",
    "  - We could potentially link answers with similar tags together.\n",
    "- The last editor of the answer: `last_editor`\n",
    "  - Note that this is a \"shallow user\" object, from which we can extract the `user_id` of the user.\n"
   ]
  }
 ],
 "metadata": {
  "kernelspec": {
   "display_name": ".venv",
   "language": "python",
   "name": "python3"
  },
  "language_info": {
   "codemirror_mode": {
    "name": "ipython",
    "version": 3
   },
   "file_extension": ".py",
   "mimetype": "text/x-python",
   "name": "python",
   "nbconvert_exporter": "python",
   "pygments_lexer": "ipython3",
   "version": "3.12.2"
  }
 },
 "nbformat": 4,
 "nbformat_minor": 2
}
