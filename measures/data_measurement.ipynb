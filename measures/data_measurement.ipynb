{
 "cells": [
  {
   "cell_type": "code",
   "execution_count": 2,
   "metadata": {},
   "outputs": [],
   "source": [
    "from graph_tool import (\n",
    "    Graph,\n",
    "    VertexPropertyMap,\n",
    "    util,\n",
    "    draw,\n",
    "    inference,\n",
    "    load_graph,\n",
    "    clustering,\n",
    "    stats,\n",
    "    centrality,\n",
    "    topology,\n",
    ")\n",
    "import math\n",
    "import numpy as np\n",
    "import matplotlib.pyplot as plt"
   ]
  },
  {
   "cell_type": "code",
   "execution_count": 3,
   "metadata": {},
   "outputs": [],
   "source": [
    "g: Graph = load_graph(\"../visualization/graph.gt.gz\")"
   ]
  },
  {
   "cell_type": "markdown",
   "metadata": {},
   "source": [
    "### Degree Distribution\n"
   ]
  },
  {
   "cell_type": "code",
   "execution_count": 10,
   "metadata": {},
   "outputs": [
    {
     "data": {
      "image/png": "[encoded data removed]",
      "text/plain": [
       "<Figure size 640x480 with 1 Axes>"
      ]
     },
     "metadata": {},
     "output_type": "display_data"
    }
   ],
   "source": [
    "degree_property_map = g.degree_property_map(\n",
    "    \"total\"\n",
    ")  # 'total' for undirected graphs, 'in' or 'out' for directed graphs\n",
    "\n",
    "# Extract the degrees into a list or a numpy array\n",
    "degrees = degree_property_map.a\n",
    "\n",
    "# Plot the degree distribution as a histogram\n",
    "plt.hist(\n",
    "    degrees, bins=range(min(degrees), max(degrees) + 1), alpha=0.75, edgecolor=\"black\"\n",
    ")\n",
    "\n",
    "plt.title(\"Degree Distribution\")\n",
    "plt.xlabel(\"Degree\")\n",
    "plt.ylabel(\"Frequency\")\n",
    "plt.show()"
   ]
  },
  {
   "cell_type": "markdown",
   "metadata": {},
   "source": [
    "### Clustering Coefficient\n"
   ]
  },
  {
   "cell_type": "code",
   "execution_count": 5,
   "metadata": {},
   "outputs": [
    {
     "name": "stdout",
     "output_type": "stream",
     "text": [
      "Average Clustering Coefficient: 0.016083645196771388\n"
     ]
    }
   ],
   "source": [
    "clustering_coefficient = clustering.local_clustering(g)\n",
    "average_clustering_coefficient = np.mean(clustering_coefficient.a)\n",
    "print(f\"Average Clustering Coefficient: {average_clustering_coefficient}\")"
   ]
  },
  {
   "cell_type": "markdown",
   "metadata": {},
   "source": [
    "### PageRank\n"
   ]
  },
  {
   "cell_type": "code",
   "execution_count": 6,
   "metadata": {},
   "outputs": [
    {
     "name": "stdout",
     "output_type": "stream",
     "text": [
      "PageRank: [0.00020181 0.00020181 0.00020181 ... 0.00020926 0.00038383 0.00041169]\n"
     ]
    }
   ],
   "source": [
    "pagerank_map = centrality.pagerank(g)\n",
    "print(f\"PageRank: {pagerank_map.a}\")"
   ]
  },
  {
   "cell_type": "markdown",
   "metadata": {},
   "source": [
    "### Diameter\n"
   ]
  },
  {
   "cell_type": "code",
   "execution_count": 7,
   "metadata": {},
   "outputs": [
    {
     "name": "stdout",
     "output_type": "stream",
     "text": [
      "Diameter: (<Vertex object with index '0' at 0x103930a40>, <Vertex object with index '2245' at 0x103930f40>)\n"
     ]
    }
   ],
   "source": [
    "_, diameter = topology.pseudo_diameter(g)\n",
    "print(f\"Diameter: {diameter}\")"
   ]
  },
  {
   "cell_type": "markdown",
   "metadata": {},
   "source": [
    "### Closeness\n"
   ]
  },
  {
   "cell_type": "code",
   "execution_count": 8,
   "metadata": {},
   "outputs": [
    {
     "name": "stdout",
     "output_type": "stream",
     "text": [
      "Closeness: [0.57051282 1.         1.         ...        nan        nan        nan]\n"
     ]
    }
   ],
   "source": [
    "closeness_map = centrality.closeness(g)\n",
    "print(f\"Closeness: {closeness_map.a}\")"
   ]
  },
  {
   "cell_type": "markdown",
   "metadata": {},
   "source": [
    "### Betweenness\n"
   ]
  },
  {
   "cell_type": "code",
   "execution_count": 9,
   "metadata": {},
   "outputs": [
    {
     "name": "stdout",
     "output_type": "stream",
     "text": [
      "Vertex Betweenness: [0. 0. 0. ... 0. 0. 0.]\n",
      "Edge Betweenness: [4.58549320e-07 1.03173597e-06 4.58549320e-07 ... 1.14637330e-07\n",
      " 1.37564796e-06 1.71955995e-06]\n"
     ]
    }
   ],
   "source": [
    "vertex_betweenness, edge_betweenness = centrality.betweenness(g)\n",
    "print(f\"Vertex Betweenness: {vertex_betweenness.a}\")\n",
    "print(f\"Edge Betweenness: {edge_betweenness.a}\")"
   ]
  }
 ],
 "metadata": {
  "kernelspec": {
   "display_name": "Python 3",
   "language": "python",
   "name": "python3"
  },
  "language_info": {
   "codemirror_mode": {
    "name": "ipython",
    "version": 3
   },
   "file_extension": ".py",
   "mimetype": "text/x-python",
   "name": "python",
   "nbconvert_exporter": "python",
   "pygments_lexer": "ipython3",
   "version": "3.12.2"
  }
 },
 "nbformat": 4,
 "nbformat_minor": 2
}
